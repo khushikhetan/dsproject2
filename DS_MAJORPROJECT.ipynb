{
  "cells": [
    {
      "cell_type": "code",
      "execution_count": null,
      "id": "6ed5d7fe-4f22-4bd3-a51c-e5dc41ad83ac",
      "metadata": {
        "id": "6ed5d7fe-4f22-4bd3-a51c-e5dc41ad83ac"
      },
      "outputs": [],
      "source": [
        "#Create a Classification model to predict whether a person makes over $50k a year"
      ]
    },
    {
      "cell_type": "code",
      "execution_count": null,
      "id": "971545bb-0684-4f5b-905c-b17ed0dd69c2",
      "metadata": {
        "id": "971545bb-0684-4f5b-905c-b17ed0dd69c2"
      },
      "outputs": [],
      "source": [
        "import pandas as pd\n",
        "import numpy as np\n",
        "import seaborn as sns\n",
        "import matplotlib.pyplot as plt"
      ]
    },
    {
      "cell_type": "code",
      "execution_count": null,
      "id": "c54bac49-1778-40ba-a236-01d470cdc5de",
      "metadata": {
        "id": "c54bac49-1778-40ba-a236-01d470cdc5de"
      },
      "outputs": [],
      "source": [
        "df=pd.read_csv('adult.csv')"
      ]
    },
    {
      "cell_type": "code",
      "execution_count": null,
      "id": "661b8815-c705-4a49-9758-9c8147a60e6a",
      "metadata": {
        "id": "661b8815-c705-4a49-9758-9c8147a60e6a",
        "outputId": "5ac024bb-433f-45f1-9119-db9e42308c2d"
      },
      "outputs": [
        {
          "data": {
            "text/html": [
              "<div>\n",
              "<style scoped>\n",
              "    .dataframe tbody tr th:only-of-type {\n",
              "        vertical-align: middle;\n",
              "    }\n",
              "\n",
              "    .dataframe tbody tr th {\n",
              "        vertical-align: top;\n",
              "    }\n",
              "\n",
              "    .dataframe thead th {\n",
              "        text-align: right;\n",
              "    }\n",
              "</style>\n",
              "<table border=\"1\" class=\"dataframe\">\n",
              "  <thead>\n",
              "    <tr style=\"text-align: right;\">\n",
              "      <th></th>\n",
              "      <th>Unnamed: 0</th>\n",
              "      <th>Unnamed: 1</th>\n",
              "      <th>Unnamed: 2</th>\n",
              "      <th>Unnamed: 3</th>\n",
              "      <th>Unnamed: 4</th>\n",
              "      <th>Unnamed: 5</th>\n",
              "      <th>Unnamed: 6</th>\n",
              "      <th>Unnamed: 7</th>\n",
              "      <th>Unnamed: 8</th>\n",
              "      <th>Unnamed: 9</th>\n",
              "      <th>Unnamed: 10</th>\n",
              "      <th>Unnamed: 11</th>\n",
              "      <th>Unnamed: 12</th>\n",
              "      <th>Unnamed: 13</th>\n",
              "      <th>Unnamed: 14</th>\n",
              "    </tr>\n",
              "  </thead>\n",
              "  <tbody>\n",
              "    <tr>\n",
              "      <th>0</th>\n",
              "      <td>39</td>\n",
              "      <td>State-gov</td>\n",
              "      <td>77516</td>\n",
              "      <td>Bachelors</td>\n",
              "      <td>13</td>\n",
              "      <td>Never-married</td>\n",
              "      <td>Adm-clerical</td>\n",
              "      <td>Not-in-family</td>\n",
              "      <td>White</td>\n",
              "      <td>Male</td>\n",
              "      <td>2174</td>\n",
              "      <td>0</td>\n",
              "      <td>40</td>\n",
              "      <td>United-States</td>\n",
              "      <td>&lt;=50K</td>\n",
              "    </tr>\n",
              "    <tr>\n",
              "      <th>1</th>\n",
              "      <td>50</td>\n",
              "      <td>Self-emp-not-inc</td>\n",
              "      <td>83311</td>\n",
              "      <td>Bachelors</td>\n",
              "      <td>13</td>\n",
              "      <td>Married-civ-spouse</td>\n",
              "      <td>Exec-managerial</td>\n",
              "      <td>Husband</td>\n",
              "      <td>White</td>\n",
              "      <td>Male</td>\n",
              "      <td>0</td>\n",
              "      <td>0</td>\n",
              "      <td>13</td>\n",
              "      <td>United-States</td>\n",
              "      <td>&lt;=50K</td>\n",
              "    </tr>\n",
              "    <tr>\n",
              "      <th>2</th>\n",
              "      <td>38</td>\n",
              "      <td>Private</td>\n",
              "      <td>215646</td>\n",
              "      <td>HS-grad</td>\n",
              "      <td>9</td>\n",
              "      <td>Divorced</td>\n",
              "      <td>Handlers-cleaners</td>\n",
              "      <td>Not-in-family</td>\n",
              "      <td>White</td>\n",
              "      <td>Male</td>\n",
              "      <td>0</td>\n",
              "      <td>0</td>\n",
              "      <td>40</td>\n",
              "      <td>United-States</td>\n",
              "      <td>&lt;=50K</td>\n",
              "    </tr>\n",
              "    <tr>\n",
              "      <th>3</th>\n",
              "      <td>53</td>\n",
              "      <td>Private</td>\n",
              "      <td>234721</td>\n",
              "      <td>11th</td>\n",
              "      <td>7</td>\n",
              "      <td>Married-civ-spouse</td>\n",
              "      <td>Handlers-cleaners</td>\n",
              "      <td>Husband</td>\n",
              "      <td>Black</td>\n",
              "      <td>Male</td>\n",
              "      <td>0</td>\n",
              "      <td>0</td>\n",
              "      <td>40</td>\n",
              "      <td>United-States</td>\n",
              "      <td>&lt;=50K</td>\n",
              "    </tr>\n",
              "    <tr>\n",
              "      <th>4</th>\n",
              "      <td>28</td>\n",
              "      <td>Private</td>\n",
              "      <td>338409</td>\n",
              "      <td>Bachelors</td>\n",
              "      <td>13</td>\n",
              "      <td>Married-civ-spouse</td>\n",
              "      <td>Prof-specialty</td>\n",
              "      <td>Wife</td>\n",
              "      <td>Black</td>\n",
              "      <td>Female</td>\n",
              "      <td>0</td>\n",
              "      <td>0</td>\n",
              "      <td>40</td>\n",
              "      <td>Cuba</td>\n",
              "      <td>&lt;=50K</td>\n",
              "    </tr>\n",
              "  </tbody>\n",
              "</table>\n",
              "</div>"
            ],
            "text/plain": [
              "   Unnamed: 0         Unnamed: 1  Unnamed: 2  Unnamed: 3  Unnamed: 4  \\\n",
              "0          39          State-gov       77516   Bachelors          13   \n",
              "1          50   Self-emp-not-inc       83311   Bachelors          13   \n",
              "2          38            Private      215646     HS-grad           9   \n",
              "3          53            Private      234721        11th           7   \n",
              "4          28            Private      338409   Bachelors          13   \n",
              "\n",
              "            Unnamed: 5          Unnamed: 6      Unnamed: 7 Unnamed: 8  \\\n",
              "0        Never-married        Adm-clerical   Not-in-family      White   \n",
              "1   Married-civ-spouse     Exec-managerial         Husband      White   \n",
              "2             Divorced   Handlers-cleaners   Not-in-family      White   \n",
              "3   Married-civ-spouse   Handlers-cleaners         Husband      Black   \n",
              "4   Married-civ-spouse      Prof-specialty            Wife      Black   \n",
              "\n",
              "  Unnamed: 9  Unnamed: 10  Unnamed: 11  Unnamed: 12     Unnamed: 13  \\\n",
              "0       Male         2174            0           40   United-States   \n",
              "1       Male            0            0           13   United-States   \n",
              "2       Male            0            0           40   United-States   \n",
              "3       Male            0            0           40   United-States   \n",
              "4     Female            0            0           40            Cuba   \n",
              "\n",
              "  Unnamed: 14  \n",
              "0       <=50K  \n",
              "1       <=50K  \n",
              "2       <=50K  \n",
              "3       <=50K  \n",
              "4       <=50K  "
            ]
          },
          "execution_count": 7,
          "metadata": {},
          "output_type": "execute_result"
        }
      ],
      "source": [
        "df.head()"
      ]
    },
    {
      "cell_type": "code",
      "execution_count": null,
      "id": "a77d3ef0-1c59-4e1a-b096-e01f4dc576b1",
      "metadata": {
        "id": "a77d3ef0-1c59-4e1a-b096-e01f4dc576b1"
      },
      "outputs": [],
      "source": [
        "df.columns = ['Age','Workclass','Fnlwgt','Education','Education_num',\n",
        "                  'Marital_status','Occupation','Relationship','Race',\n",
        "                   'Sex','Capital_gain','Capital_loss','Hours_per_week','Native_country',\n",
        "                  'Income']\n",
        "\n"
      ]
    },
    {
      "cell_type": "code",
      "execution_count": null,
      "id": "2d3a99d5-7a5a-44ce-b1ce-4daf2f4a4bb2",
      "metadata": {
        "id": "2d3a99d5-7a5a-44ce-b1ce-4daf2f4a4bb2",
        "outputId": "241ba9c1-c272-41d5-a504-504d586feb8e"
      },
      "outputs": [
        {
          "data": {
            "text/html": [
              "<div>\n",
              "<style scoped>\n",
              "    .dataframe tbody tr th:only-of-type {\n",
              "        vertical-align: middle;\n",
              "    }\n",
              "\n",
              "    .dataframe tbody tr th {\n",
              "        vertical-align: top;\n",
              "    }\n",
              "\n",
              "    .dataframe thead th {\n",
              "        text-align: right;\n",
              "    }\n",
              "</style>\n",
              "<table border=\"1\" class=\"dataframe\">\n",
              "  <thead>\n",
              "    <tr style=\"text-align: right;\">\n",
              "      <th></th>\n",
              "      <th>Age</th>\n",
              "      <th>Workclass</th>\n",
              "      <th>Fnlwgt</th>\n",
              "      <th>Education</th>\n",
              "      <th>Education_num</th>\n",
              "      <th>Marital_status</th>\n",
              "      <th>Occupation</th>\n",
              "      <th>Relationship</th>\n",
              "      <th>Race</th>\n",
              "      <th>Sex</th>\n",
              "      <th>Capital_gain</th>\n",
              "      <th>Capital_loss</th>\n",
              "      <th>Hours_per_week</th>\n",
              "      <th>Native_country</th>\n",
              "      <th>Income</th>\n",
              "    </tr>\n",
              "  </thead>\n",
              "  <tbody>\n",
              "    <tr>\n",
              "      <th>0</th>\n",
              "      <td>39</td>\n",
              "      <td>State-gov</td>\n",
              "      <td>77516</td>\n",
              "      <td>Bachelors</td>\n",
              "      <td>13</td>\n",
              "      <td>Never-married</td>\n",
              "      <td>Adm-clerical</td>\n",
              "      <td>Not-in-family</td>\n",
              "      <td>White</td>\n",
              "      <td>Male</td>\n",
              "      <td>2174</td>\n",
              "      <td>0</td>\n",
              "      <td>40</td>\n",
              "      <td>United-States</td>\n",
              "      <td>&lt;=50K</td>\n",
              "    </tr>\n",
              "    <tr>\n",
              "      <th>1</th>\n",
              "      <td>50</td>\n",
              "      <td>Self-emp-not-inc</td>\n",
              "      <td>83311</td>\n",
              "      <td>Bachelors</td>\n",
              "      <td>13</td>\n",
              "      <td>Married-civ-spouse</td>\n",
              "      <td>Exec-managerial</td>\n",
              "      <td>Husband</td>\n",
              "      <td>White</td>\n",
              "      <td>Male</td>\n",
              "      <td>0</td>\n",
              "      <td>0</td>\n",
              "      <td>13</td>\n",
              "      <td>United-States</td>\n",
              "      <td>&lt;=50K</td>\n",
              "    </tr>\n",
              "    <tr>\n",
              "      <th>2</th>\n",
              "      <td>38</td>\n",
              "      <td>Private</td>\n",
              "      <td>215646</td>\n",
              "      <td>HS-grad</td>\n",
              "      <td>9</td>\n",
              "      <td>Divorced</td>\n",
              "      <td>Handlers-cleaners</td>\n",
              "      <td>Not-in-family</td>\n",
              "      <td>White</td>\n",
              "      <td>Male</td>\n",
              "      <td>0</td>\n",
              "      <td>0</td>\n",
              "      <td>40</td>\n",
              "      <td>United-States</td>\n",
              "      <td>&lt;=50K</td>\n",
              "    </tr>\n",
              "    <tr>\n",
              "      <th>3</th>\n",
              "      <td>53</td>\n",
              "      <td>Private</td>\n",
              "      <td>234721</td>\n",
              "      <td>11th</td>\n",
              "      <td>7</td>\n",
              "      <td>Married-civ-spouse</td>\n",
              "      <td>Handlers-cleaners</td>\n",
              "      <td>Husband</td>\n",
              "      <td>Black</td>\n",
              "      <td>Male</td>\n",
              "      <td>0</td>\n",
              "      <td>0</td>\n",
              "      <td>40</td>\n",
              "      <td>United-States</td>\n",
              "      <td>&lt;=50K</td>\n",
              "    </tr>\n",
              "    <tr>\n",
              "      <th>4</th>\n",
              "      <td>28</td>\n",
              "      <td>Private</td>\n",
              "      <td>338409</td>\n",
              "      <td>Bachelors</td>\n",
              "      <td>13</td>\n",
              "      <td>Married-civ-spouse</td>\n",
              "      <td>Prof-specialty</td>\n",
              "      <td>Wife</td>\n",
              "      <td>Black</td>\n",
              "      <td>Female</td>\n",
              "      <td>0</td>\n",
              "      <td>0</td>\n",
              "      <td>40</td>\n",
              "      <td>Cuba</td>\n",
              "      <td>&lt;=50K</td>\n",
              "    </tr>\n",
              "  </tbody>\n",
              "</table>\n",
              "</div>"
            ],
            "text/plain": [
              "   Age          Workclass  Fnlwgt   Education  Education_num  \\\n",
              "0   39          State-gov   77516   Bachelors             13   \n",
              "1   50   Self-emp-not-inc   83311   Bachelors             13   \n",
              "2   38            Private  215646     HS-grad              9   \n",
              "3   53            Private  234721        11th              7   \n",
              "4   28            Private  338409   Bachelors             13   \n",
              "\n",
              "        Marital_status          Occupation    Relationship    Race      Sex  \\\n",
              "0        Never-married        Adm-clerical   Not-in-family   White     Male   \n",
              "1   Married-civ-spouse     Exec-managerial         Husband   White     Male   \n",
              "2             Divorced   Handlers-cleaners   Not-in-family   White     Male   \n",
              "3   Married-civ-spouse   Handlers-cleaners         Husband   Black     Male   \n",
              "4   Married-civ-spouse      Prof-specialty            Wife   Black   Female   \n",
              "\n",
              "   Capital_gain  Capital_loss  Hours_per_week  Native_country  Income  \n",
              "0          2174             0              40   United-States   <=50K  \n",
              "1             0             0              13   United-States   <=50K  \n",
              "2             0             0              40   United-States   <=50K  \n",
              "3             0             0              40   United-States   <=50K  \n",
              "4             0             0              40            Cuba   <=50K  "
            ]
          },
          "execution_count": 9,
          "metadata": {},
          "output_type": "execute_result"
        }
      ],
      "source": [
        "df.head()"
      ]
    },
    {
      "cell_type": "code",
      "execution_count": null,
      "id": "775ca426-fbf3-4e97-af07-54306c30e4c0",
      "metadata": {
        "id": "775ca426-fbf3-4e97-af07-54306c30e4c0",
        "outputId": "0f560f3a-e018-46af-ed1f-d60177097695"
      },
      "outputs": [
        {
          "data": {
            "text/plain": [
              "(32561, 15)"
            ]
          },
          "execution_count": 10,
          "metadata": {},
          "output_type": "execute_result"
        }
      ],
      "source": [
        "df.shape"
      ]
    },
    {
      "cell_type": "code",
      "execution_count": null,
      "id": "3be9e86d-4c9d-4841-81e5-07cc8b62f766",
      "metadata": {
        "id": "3be9e86d-4c9d-4841-81e5-07cc8b62f766",
        "outputId": "7fde397c-752a-48f7-82f7-722f4dcb36e2"
      },
      "outputs": [
        {
          "data": {
            "text/plain": [
              "Age               0\n",
              "Workclass         0\n",
              "Fnlwgt            0\n",
              "Education         0\n",
              "Education_num     0\n",
              "Marital_status    0\n",
              "Occupation        0\n",
              "Relationship      0\n",
              "Race              0\n",
              "Sex               0\n",
              "Capital_gain      0\n",
              "Capital_loss      0\n",
              "Hours_per_week    0\n",
              "Native_country    0\n",
              "Income            0\n",
              "dtype: int64"
            ]
          },
          "execution_count": 11,
          "metadata": {},
          "output_type": "execute_result"
        }
      ],
      "source": [
        "df.isnull().sum()"
      ]
    },
    {
      "cell_type": "code",
      "execution_count": null,
      "id": "d841b25b-08b3-416b-951d-a7e6f845e99b",
      "metadata": {
        "id": "d841b25b-08b3-416b-951d-a7e6f845e99b",
        "outputId": "0238c12c-156b-46f4-fd58-ebc5b99bad94"
      },
      "outputs": [
        {
          "data": {
            "text/plain": [
              "24"
            ]
          },
          "execution_count": 12,
          "metadata": {},
          "output_type": "execute_result"
        }
      ],
      "source": [
        "df.duplicated().sum()"
      ]
    },
    {
      "cell_type": "code",
      "execution_count": null,
      "id": "60bd6779-69bd-4715-ad98-b071260eacb2",
      "metadata": {
        "id": "60bd6779-69bd-4715-ad98-b071260eacb2"
      },
      "outputs": [],
      "source": [
        "df.drop_duplicates(inplace=True)"
      ]
    },
    {
      "cell_type": "code",
      "execution_count": null,
      "id": "5185c451-c750-4309-9b63-254f6cabbe6a",
      "metadata": {
        "id": "5185c451-c750-4309-9b63-254f6cabbe6a",
        "outputId": "1d012313-b953-453c-b20c-7d698885bece"
      },
      "outputs": [
        {
          "data": {
            "text/plain": [
              "0"
            ]
          },
          "execution_count": 14,
          "metadata": {},
          "output_type": "execute_result"
        }
      ],
      "source": [
        "df.duplicated().sum()"
      ]
    },
    {
      "cell_type": "code",
      "execution_count": null,
      "id": "ccf7a3a5-7c35-476d-b2bb-c7f4f64525c2",
      "metadata": {
        "id": "ccf7a3a5-7c35-476d-b2bb-c7f4f64525c2",
        "outputId": "9d25da63-dcfd-4fb3-b6fc-a1d2ad39be34"
      },
      "outputs": [
        {
          "data": {
            "text/plain": [
              "(32537, 15)"
            ]
          },
          "execution_count": 15,
          "metadata": {},
          "output_type": "execute_result"
        }
      ],
      "source": [
        "df.shape"
      ]
    },
    {
      "cell_type": "code",
      "execution_count": null,
      "id": "4d929988-9e1d-42af-81fe-875273c02517",
      "metadata": {
        "id": "4d929988-9e1d-42af-81fe-875273c02517",
        "outputId": "4eeea1f4-fd97-4042-fb89-8df173acf274"
      },
      "outputs": [
        {
          "data": {
            "text/plain": [
              "Age                int64\n",
              "Workclass         object\n",
              "Fnlwgt             int64\n",
              "Education         object\n",
              "Education_num      int64\n",
              "Marital_status    object\n",
              "Occupation        object\n",
              "Relationship      object\n",
              "Race              object\n",
              "Sex               object\n",
              "Capital_gain       int64\n",
              "Capital_loss       int64\n",
              "Hours_per_week     int64\n",
              "Native_country    object\n",
              "Income            object\n",
              "dtype: object"
            ]
          },
          "execution_count": 16,
          "metadata": {},
          "output_type": "execute_result"
        }
      ],
      "source": [
        "df.dtypes"
      ]
    },
    {
      "cell_type": "code",
      "execution_count": null,
      "id": "63e0c4fe-f0c0-432a-ab90-996dfffbd895",
      "metadata": {
        "id": "63e0c4fe-f0c0-432a-ab90-996dfffbd895",
        "outputId": "0cc898af-22d7-47b2-cbe4-bf4df0be60ea"
      },
      "outputs": [
        {
          "data": {
            "text/plain": [
              " <=50K    24698\n",
              " >50K      7839\n",
              "Name: Income, dtype: int64"
            ]
          },
          "execution_count": 17,
          "metadata": {},
          "output_type": "execute_result"
        }
      ],
      "source": [
        "df['Income'].value_counts()"
      ]
    },
    {
      "cell_type": "code",
      "execution_count": null,
      "id": "4bb2522d-bc10-42c7-9d5d-74be32d94f04",
      "metadata": {
        "id": "4bb2522d-bc10-42c7-9d5d-74be32d94f04",
        "outputId": "1efcb913-32bb-435c-a131-55ce7bda8eaf"
      },
      "outputs": [
        {
          "data": {
            "text/plain": [
              " United-States                 29153\n",
              " Mexico                          639\n",
              " ?                               582\n",
              " Philippines                     198\n",
              " Germany                         137\n",
              " Canada                          121\n",
              " Puerto-Rico                     114\n",
              " El-Salvador                     106\n",
              " India                           100\n",
              " Cuba                             95\n",
              " England                          90\n",
              " Jamaica                          81\n",
              " South                            80\n",
              " China                            75\n",
              " Italy                            73\n",
              " Dominican-Republic               70\n",
              " Vietnam                          67\n",
              " Japan                            62\n",
              " Guatemala                        62\n",
              " Poland                           60\n",
              " Columbia                         59\n",
              " Taiwan                           51\n",
              " Haiti                            44\n",
              " Iran                             43\n",
              " Portugal                         37\n",
              " Nicaragua                        34\n",
              " Peru                             31\n",
              " France                           29\n",
              " Greece                           29\n",
              " Ecuador                          28\n",
              " Ireland                          24\n",
              " Hong                             20\n",
              " Cambodia                         19\n",
              " Trinadad&Tobago                  19\n",
              " Laos                             18\n",
              " Thailand                         18\n",
              " Yugoslavia                       16\n",
              " Outlying-US(Guam-USVI-etc)       14\n",
              " Honduras                         13\n",
              " Hungary                          13\n",
              " Scotland                         12\n",
              " Holand-Netherlands                1\n",
              "Name: Native_country, dtype: int64"
            ]
          },
          "execution_count": 18,
          "metadata": {},
          "output_type": "execute_result"
        }
      ],
      "source": [
        "df['Native_country'].value_counts()"
      ]
    },
    {
      "cell_type": "code",
      "execution_count": null,
      "id": "77d360bf-090f-43a3-97a8-42fd8dc442de",
      "metadata": {
        "id": "77d360bf-090f-43a3-97a8-42fd8dc442de"
      },
      "outputs": [],
      "source": [
        "from sklearn.preprocessing import LabelEncoder"
      ]
    },
    {
      "cell_type": "code",
      "execution_count": null,
      "id": "af276b4c-fc42-46df-97bd-859270347eee",
      "metadata": {
        "id": "af276b4c-fc42-46df-97bd-859270347eee"
      },
      "outputs": [],
      "source": [
        "lb = LabelEncoder()\n",
        "df['Workclass'] = lb.fit_transform(df['Workclass'])\n",
        "df['Education'] = lb.fit_transform(df['Education'])\n",
        "df['Marital_status'] = lb.fit_transform(df['Marital_status'])\n",
        "df['Occupation'] = lb.fit_transform(df['Occupation'])\n",
        "df['Relationship'] = lb.fit_transform(df['Relationship'])\n",
        "df['Race'] = lb.fit_transform(df['Race'])\n",
        "df['Sex'] = lb.fit_transform(df['Sex'])\n",
        "df['Native_country'] = lb.fit_transform(df['Native_country'])\n",
        "df['Income'] = lb.fit_transform(df['Income'])"
      ]
    },
    {
      "cell_type": "code",
      "execution_count": null,
      "id": "a49c0ea3-381a-4e03-af0e-949faf462146",
      "metadata": {
        "id": "a49c0ea3-381a-4e03-af0e-949faf462146",
        "outputId": "bf0aa1aa-fbff-4532-af72-68473a61505f"
      },
      "outputs": [
        {
          "data": {
            "text/plain": [
              "Age               int64\n",
              "Workclass         int64\n",
              "Fnlwgt            int64\n",
              "Education         int64\n",
              "Education_num     int64\n",
              "Marital_status    int64\n",
              "Occupation        int64\n",
              "Relationship      int64\n",
              "Race              int64\n",
              "Sex               int64\n",
              "Capital_gain      int64\n",
              "Capital_loss      int64\n",
              "Hours_per_week    int64\n",
              "Native_country    int64\n",
              "Income            int64\n",
              "dtype: object"
            ]
          },
          "execution_count": 21,
          "metadata": {},
          "output_type": "execute_result"
        }
      ],
      "source": [
        "df.dtypes"
      ]
    },
    {
      "cell_type": "code",
      "execution_count": null,
      "id": "77ad3fb4-7e3c-4a55-aa43-eef3c7942961",
      "metadata": {
        "id": "77ad3fb4-7e3c-4a55-aa43-eef3c7942961",
        "outputId": "576b9cb4-4422-4a83-8d9a-b63145fa2ab2"
      },
      "outputs": [
        {
          "data": {
            "text/plain": [
              "Age               0\n",
              "Workclass         0\n",
              "Fnlwgt            0\n",
              "Education         0\n",
              "Education_num     0\n",
              "Marital_status    0\n",
              "Occupation        0\n",
              "Relationship      0\n",
              "Race              0\n",
              "Sex               0\n",
              "Capital_gain      0\n",
              "Capital_loss      0\n",
              "Hours_per_week    0\n",
              "Native_country    0\n",
              "Income            0\n",
              "dtype: int64"
            ]
          },
          "execution_count": 22,
          "metadata": {},
          "output_type": "execute_result"
        }
      ],
      "source": [
        "df.isnull().sum()"
      ]
    },
    {
      "cell_type": "code",
      "execution_count": null,
      "id": "329635d7-a472-4e23-bcec-d24763b0c560",
      "metadata": {
        "id": "329635d7-a472-4e23-bcec-d24763b0c560"
      },
      "outputs": [],
      "source": [
        "df.drop(['Fnlwgt','Education_num', 'Marital_status', 'Relationship', 'Race','Capital_gain','Capital_loss'], axis=1, inplace=True)"
      ]
    },
    {
      "cell_type": "code",
      "execution_count": null,
      "id": "f5128831-8d8d-4217-adeb-554648f8abb7",
      "metadata": {
        "id": "f5128831-8d8d-4217-adeb-554648f8abb7",
        "outputId": "ae3d89ad-ce21-4560-8825-34a5b6c07cb4"
      },
      "outputs": [
        {
          "data": {
            "text/html": [
              "<div>\n",
              "<style scoped>\n",
              "    .dataframe tbody tr th:only-of-type {\n",
              "        vertical-align: middle;\n",
              "    }\n",
              "\n",
              "    .dataframe tbody tr th {\n",
              "        vertical-align: top;\n",
              "    }\n",
              "\n",
              "    .dataframe thead th {\n",
              "        text-align: right;\n",
              "    }\n",
              "</style>\n",
              "<table border=\"1\" class=\"dataframe\">\n",
              "  <thead>\n",
              "    <tr style=\"text-align: right;\">\n",
              "      <th></th>\n",
              "      <th>Age</th>\n",
              "      <th>Workclass</th>\n",
              "      <th>Education</th>\n",
              "      <th>Occupation</th>\n",
              "      <th>Sex</th>\n",
              "      <th>Hours_per_week</th>\n",
              "      <th>Native_country</th>\n",
              "      <th>Income</th>\n",
              "    </tr>\n",
              "  </thead>\n",
              "  <tbody>\n",
              "    <tr>\n",
              "      <th>0</th>\n",
              "      <td>39</td>\n",
              "      <td>7</td>\n",
              "      <td>9</td>\n",
              "      <td>1</td>\n",
              "      <td>1</td>\n",
              "      <td>40</td>\n",
              "      <td>39</td>\n",
              "      <td>0</td>\n",
              "    </tr>\n",
              "    <tr>\n",
              "      <th>1</th>\n",
              "      <td>50</td>\n",
              "      <td>6</td>\n",
              "      <td>9</td>\n",
              "      <td>4</td>\n",
              "      <td>1</td>\n",
              "      <td>13</td>\n",
              "      <td>39</td>\n",
              "      <td>0</td>\n",
              "    </tr>\n",
              "    <tr>\n",
              "      <th>2</th>\n",
              "      <td>38</td>\n",
              "      <td>4</td>\n",
              "      <td>11</td>\n",
              "      <td>6</td>\n",
              "      <td>1</td>\n",
              "      <td>40</td>\n",
              "      <td>39</td>\n",
              "      <td>0</td>\n",
              "    </tr>\n",
              "    <tr>\n",
              "      <th>3</th>\n",
              "      <td>53</td>\n",
              "      <td>4</td>\n",
              "      <td>1</td>\n",
              "      <td>6</td>\n",
              "      <td>1</td>\n",
              "      <td>40</td>\n",
              "      <td>39</td>\n",
              "      <td>0</td>\n",
              "    </tr>\n",
              "    <tr>\n",
              "      <th>4</th>\n",
              "      <td>28</td>\n",
              "      <td>4</td>\n",
              "      <td>9</td>\n",
              "      <td>10</td>\n",
              "      <td>0</td>\n",
              "      <td>40</td>\n",
              "      <td>5</td>\n",
              "      <td>0</td>\n",
              "    </tr>\n",
              "  </tbody>\n",
              "</table>\n",
              "</div>"
            ],
            "text/plain": [
              "   Age  Workclass  Education  Occupation  Sex  Hours_per_week  Native_country  \\\n",
              "0   39          7          9           1    1              40              39   \n",
              "1   50          6          9           4    1              13              39   \n",
              "2   38          4         11           6    1              40              39   \n",
              "3   53          4          1           6    1              40              39   \n",
              "4   28          4          9          10    0              40               5   \n",
              "\n",
              "   Income  \n",
              "0       0  \n",
              "1       0  \n",
              "2       0  \n",
              "3       0  \n",
              "4       0  "
            ]
          },
          "execution_count": 24,
          "metadata": {},
          "output_type": "execute_result"
        }
      ],
      "source": [
        "df.head()"
      ]
    },
    {
      "cell_type": "code",
      "execution_count": null,
      "id": "601c8b73-1269-4e08-8658-ea4ff51030c1",
      "metadata": {
        "id": "601c8b73-1269-4e08-8658-ea4ff51030c1",
        "outputId": "bfb72645-9dbd-43b9-c2f2-b199978ddf60"
      },
      "outputs": [
        {
          "data": {
            "text/plain": [
              "0    24698\n",
              "1     7839\n",
              "Name: Income, dtype: int64"
            ]
          },
          "execution_count": 25,
          "metadata": {},
          "output_type": "execute_result"
        }
      ],
      "source": [
        "df['Income'].value_counts()"
      ]
    },
    {
      "cell_type": "code",
      "execution_count": null,
      "id": "f1f600ac-6f85-403a-94f1-a416ffa1f0b8",
      "metadata": {
        "id": "f1f600ac-6f85-403a-94f1-a416ffa1f0b8"
      },
      "outputs": [],
      "source": [
        "x=df.iloc[:,:-1]\n",
        "y=df.iloc[:,-1]"
      ]
    },
    {
      "cell_type": "code",
      "execution_count": null,
      "id": "e05b9308-b37e-43b9-a3ff-d8168bb670dd",
      "metadata": {
        "id": "e05b9308-b37e-43b9-a3ff-d8168bb670dd",
        "outputId": "f689f23b-1ff9-497d-9642-c63e330d8704"
      },
      "outputs": [
        {
          "name": "stdout",
          "output_type": "stream",
          "text": [
            "<class 'pandas.core.frame.DataFrame'>\n",
            "<class 'pandas.core.series.Series'>\n"
          ]
        }
      ],
      "source": [
        "print(type(x))\n",
        "print(type(y))"
      ]
    },
    {
      "cell_type": "code",
      "execution_count": null,
      "id": "9a4aba2a-ed41-4ba1-a3b3-e1c120517ff9",
      "metadata": {
        "id": "9a4aba2a-ed41-4ba1-a3b3-e1c120517ff9",
        "outputId": "9b482115-049b-4686-ec1d-0c099c33d4c9"
      },
      "outputs": [
        {
          "name": "stdout",
          "output_type": "stream",
          "text": [
            "(32537, 7)\n",
            "(32537,)\n"
          ]
        }
      ],
      "source": [
        "print(x.shape)\n",
        "print(y.shape)"
      ]
    },
    {
      "cell_type": "code",
      "execution_count": null,
      "id": "77cc4323-8386-42c8-99e1-f74e4306111f",
      "metadata": {
        "id": "77cc4323-8386-42c8-99e1-f74e4306111f",
        "outputId": "4c176d30-a00c-4a4f-f371-1f1a3a7b8a8f"
      },
      "outputs": [
        {
          "data": {
            "text/html": [
              "<div>\n",
              "<style scoped>\n",
              "    .dataframe tbody tr th:only-of-type {\n",
              "        vertical-align: middle;\n",
              "    }\n",
              "\n",
              "    .dataframe tbody tr th {\n",
              "        vertical-align: top;\n",
              "    }\n",
              "\n",
              "    .dataframe thead th {\n",
              "        text-align: right;\n",
              "    }\n",
              "</style>\n",
              "<table border=\"1\" class=\"dataframe\">\n",
              "  <thead>\n",
              "    <tr style=\"text-align: right;\">\n",
              "      <th></th>\n",
              "      <th>Age</th>\n",
              "      <th>Workclass</th>\n",
              "      <th>Education</th>\n",
              "      <th>Occupation</th>\n",
              "      <th>Sex</th>\n",
              "      <th>Hours_per_week</th>\n",
              "      <th>Native_country</th>\n",
              "    </tr>\n",
              "  </thead>\n",
              "  <tbody>\n",
              "    <tr>\n",
              "      <th>0</th>\n",
              "      <td>39</td>\n",
              "      <td>7</td>\n",
              "      <td>9</td>\n",
              "      <td>1</td>\n",
              "      <td>1</td>\n",
              "      <td>40</td>\n",
              "      <td>39</td>\n",
              "    </tr>\n",
              "    <tr>\n",
              "      <th>1</th>\n",
              "      <td>50</td>\n",
              "      <td>6</td>\n",
              "      <td>9</td>\n",
              "      <td>4</td>\n",
              "      <td>1</td>\n",
              "      <td>13</td>\n",
              "      <td>39</td>\n",
              "    </tr>\n",
              "    <tr>\n",
              "      <th>2</th>\n",
              "      <td>38</td>\n",
              "      <td>4</td>\n",
              "      <td>11</td>\n",
              "      <td>6</td>\n",
              "      <td>1</td>\n",
              "      <td>40</td>\n",
              "      <td>39</td>\n",
              "    </tr>\n",
              "    <tr>\n",
              "      <th>3</th>\n",
              "      <td>53</td>\n",
              "      <td>4</td>\n",
              "      <td>1</td>\n",
              "      <td>6</td>\n",
              "      <td>1</td>\n",
              "      <td>40</td>\n",
              "      <td>39</td>\n",
              "    </tr>\n",
              "    <tr>\n",
              "      <th>4</th>\n",
              "      <td>28</td>\n",
              "      <td>4</td>\n",
              "      <td>9</td>\n",
              "      <td>10</td>\n",
              "      <td>0</td>\n",
              "      <td>40</td>\n",
              "      <td>5</td>\n",
              "    </tr>\n",
              "  </tbody>\n",
              "</table>\n",
              "</div>"
            ],
            "text/plain": [
              "   Age  Workclass  Education  Occupation  Sex  Hours_per_week  Native_country\n",
              "0   39          7          9           1    1              40              39\n",
              "1   50          6          9           4    1              13              39\n",
              "2   38          4         11           6    1              40              39\n",
              "3   53          4          1           6    1              40              39\n",
              "4   28          4          9          10    0              40               5"
            ]
          },
          "execution_count": 29,
          "metadata": {},
          "output_type": "execute_result"
        }
      ],
      "source": [
        "x.head()"
      ]
    },
    {
      "cell_type": "code",
      "execution_count": null,
      "id": "767d06d7-0782-4257-8178-11722014f0ab",
      "metadata": {
        "id": "767d06d7-0782-4257-8178-11722014f0ab",
        "outputId": "e7056d42-c690-48ec-f709-ee572a3535f7"
      },
      "outputs": [
        {
          "data": {
            "text/plain": [
              "39    29153\n",
              "26      639\n",
              "0       582\n",
              "30      198\n",
              "11      137\n",
              "2       121\n",
              "33      114\n",
              "8       106\n",
              "19      100\n",
              "5        95\n",
              "9        90\n",
              "23       81\n",
              "35       80\n",
              "3        75\n",
              "22       73\n",
              "6        70\n",
              "40       67\n",
              "24       62\n",
              "13       62\n",
              "31       60\n",
              "4        59\n",
              "36       51\n",
              "14       44\n",
              "20       43\n",
              "32       37\n",
              "27       34\n",
              "29       31\n",
              "10       29\n",
              "12       29\n",
              "7        28\n",
              "21       24\n",
              "17       20\n",
              "1        19\n",
              "38       19\n",
              "25       18\n",
              "37       18\n",
              "41       16\n",
              "28       14\n",
              "16       13\n",
              "18       13\n",
              "34       12\n",
              "15        1\n",
              "Name: Native_country, dtype: int64"
            ]
          },
          "execution_count": 30,
          "metadata": {},
          "output_type": "execute_result"
        }
      ],
      "source": [
        "df['Native_country'].value_counts()"
      ]
    },
    {
      "cell_type": "code",
      "execution_count": null,
      "id": "c0bc8dca-1ddc-4dd2-a8fe-a2b227539bf2",
      "metadata": {
        "id": "c0bc8dca-1ddc-4dd2-a8fe-a2b227539bf2",
        "outputId": "dd250e4f-2e8f-4cf7-9061-bf6f1a0e73c9"
      },
      "outputs": [
        {
          "data": {
            "text/plain": [
              "0    0\n",
              "1    0\n",
              "2    0\n",
              "3    0\n",
              "4    0\n",
              "Name: Income, dtype: int64"
            ]
          },
          "execution_count": 31,
          "metadata": {},
          "output_type": "execute_result"
        }
      ],
      "source": [
        "y.head()"
      ]
    },
    {
      "cell_type": "code",
      "execution_count": null,
      "id": "02ae961d-b336-4067-b0ad-036b4f322331",
      "metadata": {
        "id": "02ae961d-b336-4067-b0ad-036b4f322331",
        "outputId": "9e79ff11-609e-48c4-cb30-67264f9a1efc"
      },
      "outputs": [
        {
          "name": "stdout",
          "output_type": "stream",
          "text": [
            "(24402, 7)\n",
            "(8135, 7)\n",
            "(24402,)\n",
            "(8135,)\n"
          ]
        }
      ],
      "source": [
        "from sklearn.model_selection import train_test_split\n",
        "x_train,x_test,y_train,y_test = train_test_split(x,y,test_size=0.25)\n",
        "print(x_train.shape)\n",
        "print(x_test.shape)\n",
        "print(y_train.shape)\n",
        "print(y_test.shape)"
      ]
    },
    {
      "cell_type": "code",
      "execution_count": null,
      "id": "af9ae00c-fe47-421b-a162-9e5818727493",
      "metadata": {
        "id": "af9ae00c-fe47-421b-a162-9e5818727493"
      },
      "outputs": [],
      "source": [
        "from sklearn.tree import DecisionTreeClassifier\n",
        "from sklearn.ensemble import RandomForestClassifier\n",
        "from sklearn.svm import SVC\n",
        "from sklearn.linear_model import LogisticRegression\n",
        "from sklearn.neighbors import KNeighborsClassifier\n",
        "from sklearn.metrics import confusion_matrix,classification_report"
      ]
    },
    {
      "cell_type": "code",
      "execution_count": null,
      "id": "e2942070-c587-48fd-8f0d-1716dcdce898",
      "metadata": {
        "id": "e2942070-c587-48fd-8f0d-1716dcdce898"
      },
      "outputs": [],
      "source": [
        "def apply_model(model,x_train,x_test,y_train,y_test):\n",
        "    model.fit(x_train,y_train)\n",
        "    ypred = model.predict(x_test)\n",
        "    print('Predictions\\n',ypred)\n",
        "    print('Training Score',model.score(x_train,y_train))\n",
        "    print('Testing Score',model.score(x_test,y_test))\n",
        "    cm = confusion_matrix(y_test,ypred)\n",
        "    print('Confusion_matrix\\n',cm)\n",
        "    print('Classification_report\\n',classification_report(y_test,ypred,zero_division=0))"
      ]
    },
    {
      "cell_type": "code",
      "execution_count": null,
      "id": "62f67c0f-50b0-4729-a6a5-89afd834b01f",
      "metadata": {
        "id": "62f67c0f-50b0-4729-a6a5-89afd834b01f"
      },
      "outputs": [],
      "source": [
        "#1.APPLY DECISION TREE CLASSIFIER"
      ]
    },
    {
      "cell_type": "code",
      "execution_count": null,
      "id": "9d5a2c6a-ff96-45ec-b062-4049595b3ed5",
      "metadata": {
        "tags": [],
        "id": "9d5a2c6a-ff96-45ec-b062-4049595b3ed5",
        "outputId": "50d30818-4158-48d1-834d-32f0cfca89f8"
      },
      "outputs": [
        {
          "name": "stdout",
          "output_type": "stream",
          "text": [
            "Predictions\n",
            " [1 1 0 ... 0 0 0]\n",
            "Training Score 0.8405458568969757\n",
            "Testing Score 0.7998770743700061\n",
            "Confusion_matrix\n",
            " [[5599  595]\n",
            " [1033  908]]\n",
            "Classification_report\n",
            "               precision    recall  f1-score   support\n",
            "\n",
            "           0       0.84      0.90      0.87      6194\n",
            "           1       0.60      0.47      0.53      1941\n",
            "\n",
            "    accuracy                           0.80      8135\n",
            "   macro avg       0.72      0.69      0.70      8135\n",
            "weighted avg       0.79      0.80      0.79      8135\n",
            "\n"
          ]
        }
      ],
      "source": [
        "m1=DecisionTreeClassifier(criterion='entropy',max_depth=80,min_samples_split=60)\n",
        "apply_model(m1,x_train,x_test,y_train,y_test)"
      ]
    },
    {
      "cell_type": "code",
      "execution_count": null,
      "id": "99d05121-4717-42af-ae6e-2180edd62c4d",
      "metadata": {
        "id": "99d05121-4717-42af-ae6e-2180edd62c4d",
        "outputId": "462bfc92-102b-484c-9fd2-df51fcb8a2bc"
      },
      "outputs": [
        {
          "name": "stdout",
          "output_type": "stream",
          "text": [
            "Precision0: 0.84\n",
            "Precision1: 0.6\n",
            "Recall0: 0.9\n",
            "Recall1: 0.47\n",
            "F1-score0 :  0.87\n",
            "F1-score1 :  0.53\n",
            "Accuracy :  0.8\n",
            " percentage of misclassification =  0.20012292562999384\n"
          ]
        }
      ],
      "source": [
        "### validate the result for precision,recall,f1score and accuracy\n",
        "##[[TP=5599  FN=595]\n",
        "## [FP=1033 TN=908]]\n",
        "### precision = TP/(TP+FP), TN/(TN+FN)\n",
        "### Recall - TP/(TP+FN), TN/(TN+FP)\n",
        "###F1-Score - 2 * Precision * Recall /( Precision + Recall)\n",
        "### Accuracy - (TP+TN)/(TP+FN+FP+TN)\n",
        "precision0 = 5599/(5599+1033)\n",
        "precision1 = 908/(908+595)\n",
        "recall0 = 5599/(5599+595)\n",
        "recall1 = 908/(908+1033)\n",
        "print('Precision0:',round(precision0,2))\n",
        "print('Precision1:',round(precision1,2))\n",
        "print('Recall0:',round(recall0,2))\n",
        "print('Recall1:',round(recall1,2))\n",
        "f1s0 = 2*precision0*recall0/(precision0 + recall0)\n",
        "f1s1 = 2*precision1*recall1/(precision1 + recall1)\n",
        "print('F1-score0 : ',round(f1s0,2))\n",
        "print('F1-score1 : ',round(f1s1,2))\n",
        "accuracy = (5599+908)/(5599+595+1033+908)\n",
        "print('Accuracy : ',round(accuracy,2))\n",
        "##Percentage of Misclassification = # incorrect predictions / # total predictions\n",
        "##Percentage of Misclassification = (false positive + false negative) / (total predictions)\n",
        "misclassification_percentage = (1033+595)/(5599+595+1033+908)\n",
        "print(' percentage of misclassification = ',misclassification_percentage)"
      ]
    },
    {
      "cell_type": "code",
      "execution_count": null,
      "id": "9cee4e9c-da5c-4d35-941e-c26674c649c7",
      "metadata": {
        "id": "9cee4e9c-da5c-4d35-941e-c26674c649c7"
      },
      "outputs": [],
      "source": [
        "#2.APPLY SVC CLASSIFIER"
      ]
    },
    {
      "cell_type": "code",
      "execution_count": null,
      "id": "ce296951-8dd6-4dc9-94cf-72310df139bf",
      "metadata": {
        "id": "ce296951-8dd6-4dc9-94cf-72310df139bf",
        "outputId": "007cbdca-feae-4bdd-a869-5f03498f6ab4"
      },
      "outputs": [
        {
          "name": "stdout",
          "output_type": "stream",
          "text": [
            "Predictions\n",
            " [0 0 0 ... 0 0 0]\n",
            "Training Score 0.7582985001229408\n",
            "Testing Score 0.76140135218193\n",
            "Confusion_matrix\n",
            " [[6194    0]\n",
            " [1941    0]]\n",
            "Classification_report\n",
            "               precision    recall  f1-score   support\n",
            "\n",
            "           0       0.76      1.00      0.86      6194\n",
            "           1       0.00      0.00      0.00      1941\n",
            "\n",
            "    accuracy                           0.76      8135\n",
            "   macro avg       0.38      0.50      0.43      8135\n",
            "weighted avg       0.58      0.76      0.66      8135\n",
            "\n"
          ]
        }
      ],
      "source": [
        "m2=SVC(kernel='linear',C=1)\n",
        "apply_model(m2,x_train,x_test,y_train,y_test)"
      ]
    },
    {
      "cell_type": "code",
      "execution_count": null,
      "id": "cde6d5a1-ac1d-44ab-81b0-83f08ed6a440",
      "metadata": {
        "id": "cde6d5a1-ac1d-44ab-81b0-83f08ed6a440",
        "outputId": "e3d06a08-c6d2-408f-b00d-e01bb2217200"
      },
      "outputs": [
        {
          "name": "stdout",
          "output_type": "stream",
          "text": [
            "Precision0: 0.76\n",
            "Precision1: 0\n",
            "Recall0: 1.0\n",
            "Recall1: 0\n",
            "F1-score0 :  0.86\n",
            "F1-score1 :  0\n",
            "Accuracy :  0.76\n",
            " percentage of misclassification =  0.23859864781807008\n"
          ]
        }
      ],
      "source": [
        "### validate the result for precision,recall,f1score and accuracy\n",
        "##[[TP=6194  FN=0]\n",
        "## [FP=1941 TN=0]]\n",
        "### precision = TP/(TP+FP), TN/(TN+FN)\n",
        "### Recall - TP/(TP+FN), TN/(TN+FP)\n",
        "###F1-Score - 2 * Precision * Recall /( Precision + Recall)\n",
        "### Accuracy - (TP+TN)/(TP+FN+FP+TN)\n",
        "precision0 = 6194/(6194+1941)\n",
        "precision1 = 0\n",
        "recall0 = 6194/(6194+0)\n",
        "recall1 = 0\n",
        "print('Precision0:',round(precision0,2))\n",
        "print('Precision1:',round(precision1,2))\n",
        "print('Recall0:',round(recall0,2))\n",
        "print('Recall1:',round(recall1,2))\n",
        "f1s0 = 2*precision0*recall0/(precision0 + recall0)\n",
        "try:\n",
        "  f1s1 = 2*precision1*recall1/(precision1 + recall1)\n",
        "except ZeroDivisionError:\n",
        "   f1s1=0\n",
        "print('F1-score0 : ',round(f1s0,2))\n",
        "print('F1-score1 : ',round(f1s1,2))\n",
        "accuracy = (6194+0)/(6194+0+1941+0)\n",
        "print('Accuracy : ',round(accuracy,2))\n",
        "##Percentage of Misclassification = # incorrect predictions / # total predictions\n",
        "##Percentage of Misclassification = (false positive + false negative) / (total predictions)\n",
        "misclassification_percentage = (1941+0)/(6194+0+1941+0)\n",
        "print(' percentage of misclassification = ',misclassification_percentage)"
      ]
    },
    {
      "cell_type": "code",
      "execution_count": null,
      "id": "0f922e59-9a94-441b-ae49-f95a9da226e8",
      "metadata": {
        "id": "0f922e59-9a94-441b-ae49-f95a9da226e8"
      },
      "outputs": [],
      "source": [
        "#3.APPLY RANDOM FOREST CLASSIFIER"
      ]
    },
    {
      "cell_type": "code",
      "execution_count": null,
      "id": "269aecb0-a606-4fa5-a762-37bfac59bb6b",
      "metadata": {
        "id": "269aecb0-a606-4fa5-a762-37bfac59bb6b",
        "outputId": "15cbb0ef-b64e-429e-8f8e-b9e26ef03981"
      },
      "outputs": [
        {
          "name": "stdout",
          "output_type": "stream",
          "text": [
            "Predictions\n",
            " [0 0 0 ... 0 0 0]\n",
            "Training Score 0.8458323088271453\n",
            "Testing Score 0.8205285802089736\n",
            "Confusion_matrix\n",
            " [[5762  418]\n",
            " [1042  913]]\n",
            "Classification_report\n",
            "               precision    recall  f1-score   support\n",
            "\n",
            "           0       0.85      0.93      0.89      6180\n",
            "           1       0.69      0.47      0.56      1955\n",
            "\n",
            "    accuracy                           0.82      8135\n",
            "   macro avg       0.77      0.70      0.72      8135\n",
            "weighted avg       0.81      0.82      0.81      8135\n",
            "\n"
          ]
        }
      ],
      "source": [
        "m3=RandomForestClassifier(n_estimators=90,criterion='entropy',max_depth=60,min_samples_split=40)\n",
        "apply_model(m3,x_train,x_test,y_train,y_test)"
      ]
    },
    {
      "cell_type": "code",
      "execution_count": null,
      "id": "7a0aec22-38ff-4ce0-b152-2d2d6144959a",
      "metadata": {
        "id": "7a0aec22-38ff-4ce0-b152-2d2d6144959a",
        "outputId": "69562e44-692f-4e83-fb25-081fefb51271"
      },
      "outputs": [
        {
          "name": "stdout",
          "output_type": "stream",
          "text": [
            "Precision0: 0.85\n",
            "Precision1: 0.69\n",
            "Recall0: 0.93\n",
            "Recall1: 0.47\n",
            "F1-score0 :  0.89\n",
            "F1-score1 :  0.56\n",
            "Accuracy :  0.82\n",
            " percentage of misclassification =  0.17947141979102643\n"
          ]
        }
      ],
      "source": [
        "### validate the result for precision,recall,f1score and accuracy\n",
        "##[[TP=5762  FN=418]\n",
        "## [FP=1042 TN=913]]\n",
        "### precision = TP/(TP+FP), TN/(TN+FN)\n",
        "### Recall - TP/(TP+FN), TN/(TN+FP)\n",
        "###F1-Score - 2 * Precision * Recall /( Precision + Recall)\n",
        "### Accuracy - (TP+TN)/(TP+FN+FP+TN)\n",
        "precision0 = 5762/(5762+1042)\n",
        "precision1 = 913/(913+418)\n",
        "recall0 = 5762/(5762+418)\n",
        "recall1 = 913/(913+1042)\n",
        "print('Precision0:',round(precision0,2))\n",
        "print('Precision1:',round(precision1,2))\n",
        "print('Recall0:',round(recall0,2))\n",
        "print('Recall1:',round(recall1,2))\n",
        "f1s0 = 2*precision0*recall0/(precision0 + recall0)\n",
        "f1s1 = 2*precision1*recall1/(precision1 + recall1)\n",
        "print('F1-score0 : ',round(f1s0,2))\n",
        "print('F1-score1 : ',round(f1s1,2))\n",
        "accuracy = (5762+913)/(5762+418+1042+913)\n",
        "print('Accuracy : ',round(accuracy,2))\n",
        "##Percentage of Misclassification = # incorrect predictions / # total predictions\n",
        "##Percentage of Misclassification = (false positive + false negative) / (total predictions)\n",
        "misclassification_percentage = (1042+418)/(5762+418+1042+913)\n",
        "print(' percentage of misclassification = ',misclassification_percentage)"
      ]
    },
    {
      "cell_type": "code",
      "execution_count": null,
      "id": "e896eb09-e41f-4ea2-93d2-9fbc1af75f77",
      "metadata": {
        "id": "e896eb09-e41f-4ea2-93d2-9fbc1af75f77"
      },
      "outputs": [],
      "source": [
        "#4.APPLY LOGISTIC REGRESSION"
      ]
    },
    {
      "cell_type": "code",
      "execution_count": null,
      "id": "950078ac-6fa6-484c-8c06-396c782f193e",
      "metadata": {
        "id": "950078ac-6fa6-484c-8c06-396c782f193e",
        "outputId": "38d84c27-1b1d-4111-9c5a-eced18448871"
      },
      "outputs": [
        {
          "name": "stdout",
          "output_type": "stream",
          "text": [
            "Predictions\n",
            " [0 0 0 ... 0 0 0]\n",
            "Training Score 0.7610031964593066\n",
            "Testing Score 0.7595574677320222\n",
            "Confusion_matrix\n",
            " [[5841  324]\n",
            " [1632  338]]\n",
            "Classification_report\n",
            "               precision    recall  f1-score   support\n",
            "\n",
            "           0       0.78      0.95      0.86      6165\n",
            "           1       0.51      0.17      0.26      1970\n",
            "\n",
            "    accuracy                           0.76      8135\n",
            "   macro avg       0.65      0.56      0.56      8135\n",
            "weighted avg       0.72      0.76      0.71      8135\n",
            "\n"
          ]
        }
      ],
      "source": [
        "m4=LogisticRegression(solver='liblinear')\n",
        "apply_model(m4,x_train,x_test,y_train,y_test)"
      ]
    },
    {
      "cell_type": "code",
      "execution_count": null,
      "id": "2263218a-d340-440f-b73e-7fa90bbf710b",
      "metadata": {
        "id": "2263218a-d340-440f-b73e-7fa90bbf710b",
        "outputId": "fdc04512-4bef-425d-99d7-d51583cd618e"
      },
      "outputs": [
        {
          "name": "stdout",
          "output_type": "stream",
          "text": [
            "Precision0: 0.78\n",
            "Precision1: 0.51\n",
            "Recall0: 0.95\n",
            "Recall1: 0.17\n",
            "F1-score0 :  0.86\n",
            "F1-score1 :  0.26\n",
            "Accuracy :  0.76\n",
            " percentage of misclassification =  0.24044253226797788\n"
          ]
        }
      ],
      "source": [
        "### validate the result for precision,recall,f1score and accuracy\n",
        "##[[TP=5841  FN=324]\n",
        "## [FP=1632 TN=338]]\n",
        "### precision = TP/(TP+FP), TN/(TN+FN)\n",
        "### Recall - TP/(TP+FN), TN/(TN+FP)\n",
        "###F1-Score - 2 * Precision * Recall /( Precision + Recall)\n",
        "### Accuracy - (TP+TN)/(TP+FN+FP+TN)\n",
        "precision0 = 5841/(5841+1632)\n",
        "precision1 = 338/(338+324)\n",
        "recall0 = 5841/(5841+324)\n",
        "recall1 = 338/(338+1632)\n",
        "print('Precision0:',round(precision0,2))\n",
        "print('Precision1:',round(precision1,2))\n",
        "print('Recall0:',round(recall0,2))\n",
        "print('Recall1:',round(recall1,2))\n",
        "f1s0 = 2*precision0*recall0/(precision0 + recall0)\n",
        "f1s1 = 2*precision1*recall1/(precision1 + recall1)\n",
        "print('F1-score0 : ',round(f1s0,2))\n",
        "print('F1-score1 : ',round(f1s1,2))\n",
        "accuracy = (5841+338)/(5841+324+1632+338)\n",
        "print('Accuracy : ',round(accuracy,2))\n",
        "##Percentage of Misclassification = # incorrect predictions / # total predictions\n",
        "##Percentage of Misclassification = (false positive + false negative) / (total predictions)\n",
        "misclassification_percentage = (1632+324)/(5841+324+1632+338)\n",
        "print(' percentage of misclassification = ',misclassification_percentage)"
      ]
    },
    {
      "cell_type": "code",
      "execution_count": null,
      "id": "60dc6f46-523d-4894-95f6-f1fec2d8b3f1",
      "metadata": {
        "id": "60dc6f46-523d-4894-95f6-f1fec2d8b3f1"
      },
      "outputs": [],
      "source": [
        "#5.APPLY KNN CLASSIFIER"
      ]
    },
    {
      "cell_type": "code",
      "execution_count": null,
      "id": "eccf7d85-864c-4f0f-950d-2ca5f5f0b107",
      "metadata": {
        "id": "eccf7d85-864c-4f0f-950d-2ca5f5f0b107",
        "outputId": "47caa55d-0cd4-4cfd-baee-5eec61a7fd45"
      },
      "outputs": [
        {
          "name": "stdout",
          "output_type": "stream",
          "text": [
            "Predictions\n",
            " [0 0 0 ... 0 0 0]\n",
            "Training Score 0.7934185722481764\n",
            "Testing Score 0.7842655193607867\n",
            "Confusion_matrix\n",
            " [[5638  577]\n",
            " [1178  742]]\n",
            "Classification_report\n",
            "               precision    recall  f1-score   support\n",
            "\n",
            "           0       0.83      0.91      0.87      6215\n",
            "           1       0.56      0.39      0.46      1920\n",
            "\n",
            "    accuracy                           0.78      8135\n",
            "   macro avg       0.69      0.65      0.66      8135\n",
            "weighted avg       0.76      0.78      0.77      8135\n",
            "\n"
          ]
        }
      ],
      "source": [
        "m5=KNeighborsClassifier(n_neighbors=35)\n",
        "apply_model(m5,x_train,x_test,y_train,y_test)"
      ]
    },
    {
      "cell_type": "code",
      "execution_count": null,
      "id": "426ddf9b-fc1d-4b95-9c4b-2418867a00f1",
      "metadata": {
        "id": "426ddf9b-fc1d-4b95-9c4b-2418867a00f1",
        "outputId": "b6958b38-d131-42a3-ed8b-53c4aaed1737"
      },
      "outputs": [
        {
          "name": "stdout",
          "output_type": "stream",
          "text": [
            "Precision0: 0.83\n",
            "Precision1: 0.56\n",
            "Recall0: 0.91\n",
            "Recall1: 0.39\n",
            "F1-score0 :  0.87\n",
            "F1-score1 :  0.46\n",
            "Accuracy :  0.78\n",
            " percentage of misclassification =  0.21573448063921327\n"
          ]
        }
      ],
      "source": [
        "### validate the result for precision,recall,f1score and accuracy\n",
        "##[[TP=5638  FN=577]\n",
        "## [FP=1178 TN=742]]\n",
        "### precision = TP/(TP+FP), TN/(TN+FN)\n",
        "### Recall - TP/(TP+FN), TN/(TN+FP)\n",
        "###F1-Score - 2 * Precision * Recall /( Precision + Recall)\n",
        "### Accuracy - (TP+TN)/(TP+FN+FP+TN)\n",
        "precision0 = 5638/(5638+1178)\n",
        "precision1 = 742/(742+577)\n",
        "recall0 = 5638/(5638+577)\n",
        "recall1 = 742/(742+1178)\n",
        "print('Precision0:',round(precision0,2))\n",
        "print('Precision1:',round(precision1,2))\n",
        "print('Recall0:',round(recall0,2))\n",
        "print('Recall1:',round(recall1,2))\n",
        "f1s0 = 2*precision0*recall0/(precision0 + recall0)\n",
        "f1s1 = 2*precision1*recall1/(precision1 + recall1)\n",
        "print('F1-score0 : ',round(f1s0,2))\n",
        "print('F1-score1 : ',round(f1s1,2))\n",
        "accuracy = (5638+742)/(5638+577+1178+742)\n",
        "print('Accuracy : ',round(accuracy,2))\n",
        "##Percentage of Misclassification = # incorrect predictions / # total predictions\n",
        "##Percentage of Misclassification = (false positive + false negative) / (total predictions)\n",
        "misclassification_percentage = (1178+577)/(5638+577+1178+742)\n",
        "print(' percentage of misclassification = ',misclassification_percentage)"
      ]
    },
    {
      "cell_type": "code",
      "execution_count": null,
      "id": "f13a8b8f-016e-4b5b-97a6-35550e226972",
      "metadata": {
        "id": "f13a8b8f-016e-4b5b-97a6-35550e226972"
      },
      "outputs": [],
      "source": [
        "#THE MODEL THAT GIVES BEST ACCURACY IS RANDOM FOREST CLASSIFIER.It gives us an accuracy score of 82%"
      ]
    },
    {
      "cell_type": "code",
      "execution_count": null,
      "id": "9308e345-54f1-4fbd-9424-9d9c4075c953",
      "metadata": {
        "id": "9308e345-54f1-4fbd-9424-9d9c4075c953",
        "outputId": "8f0fce79-9211-417c-d02e-58359d459c88"
      },
      "outputs": [
        {
          "name": "stdout",
          "output_type": "stream",
          "text": [
            "Predictions for Random Forest: [0 0 0 ... 0 0 0]\n"
          ]
        }
      ],
      "source": [
        "ypred_res=m3.predict(x_test)\n",
        "print(\"Predictions for Random Forest:\",ypred_res)"
      ]
    },
    {
      "cell_type": "code",
      "execution_count": null,
      "id": "5585ce38-de43-4f92-859c-271c82b5ee1d",
      "metadata": {
        "id": "5585ce38-de43-4f92-859c-271c82b5ee1d",
        "outputId": "e2869b65-2777-4bf4-ef24-a6658273004a"
      },
      "outputs": [
        {
          "data": {
            "text/plain": [
              "Counter({0: 6804, 1: 1331})"
            ]
          },
          "execution_count": 37,
          "metadata": {},
          "output_type": "execute_result"
        }
      ],
      "source": [
        "import collections,numpy\n",
        "a=numpy.array(ypred_res)\n",
        "collections.Counter(a)"
      ]
    },
    {
      "cell_type": "code",
      "execution_count": null,
      "id": "a56263b3-c767-44f9-b229-3a0952388cdb",
      "metadata": {
        "id": "a56263b3-c767-44f9-b229-3a0952388cdb"
      },
      "outputs": [],
      "source": [
        "#RANDOM FOREST CLASSIFIER MODEL PREDICTS THAT 1331 PEOPLE MAKE OVER $50K A YEAR"
      ]
    }
  ],
  "metadata": {
    "kernelspec": {
      "display_name": "Python 3 (ipykernel)",
      "language": "python",
      "name": "python3"
    },
    "language_info": {
      "codemirror_mode": {
        "name": "ipython",
        "version": 3
      },
      "file_extension": ".py",
      "mimetype": "text/x-python",
      "name": "python",
      "nbconvert_exporter": "python",
      "pygments_lexer": "ipython3",
      "version": "3.9.7"
    },
    "colab": {
      "provenance": []
    }
  },
  "nbformat": 4,
  "nbformat_minor": 5
}